{
 "cells": [
  {
   "cell_type": "code",
   "execution_count": 2,
   "id": "eaa87d3b",
   "metadata": {},
   "outputs": [
    {
     "name": "stdout",
     "output_type": "stream",
     "text": [
      "Downloading https://www.cs.toronto.edu/~kriz/cifar-10-python.tar.gz to ./input/cifar-10-python.tar.gz\n"
     ]
    },
    {
     "data": {
      "application/vnd.jupyter.widget-view+json": {
       "model_id": "bfd92dff24b4427f85be52d06efc63c0",
       "version_major": 2,
       "version_minor": 0
      },
      "text/plain": [
       "  0%|          | 0/170498071 [00:00<?, ?it/s]"
      ]
     },
     "metadata": {},
     "output_type": "display_data"
    },
    {
     "name": "stdout",
     "output_type": "stream",
     "text": [
      "Extracting ./input/cifar-10-python.tar.gz to ./input/\n",
      "Files already downloaded and verified\n",
      "Training with learning rate = 0.001000, momentum = 0.900000 \n",
      "Finished training.\n"
     ]
    },
    {
     "data": {
      "text/plain": [
       "\"\\nplt.plot(e, loss_p, color='red', linestyle='--', labels='Training Loss')\\nplt.xlabel('Epoch')\\nplt.ylabel('Loss')\\nplt.show()\\n\""
      ]
     },
     "execution_count": 2,
     "metadata": {},
     "output_type": "execute_result"
    }
   ],
   "source": [
    "from torchvision import datasets as ds\n",
    "from torch.utils.data import DataLoader\n",
    "from torchvision import transforms as ts\n",
    "import torchvision as tv\n",
    "import torch\n",
    "import torch.nn as nn\n",
    "import math\n",
    "import numpy as np\n",
    "from torch.autograd import Variable\n",
    "from torch import optim\n",
    "from matplotlib import pyplot as plt\n",
    "import torch.backends.cudnn as cudnn\n",
    "\n",
    "transform = ts.Compose(\n",
    "    [\n",
    "        ts.ToTensor(),\n",
    "        ts.Normalize((0.5, 0.5, 0.5), (0.5, 0.5, 0.5))\n",
    "    ]\n",
    ")\n",
    "\n",
    "train_set = ds.CIFAR10(root='./input/',\n",
    "                       train=True, transform=transform, download=True)\n",
    "\n",
    "train_loader = torch.utils.data.DataLoader(train_set, batch_size=4, shuffle=True, num_workers=0)\n",
    "\n",
    "testset = tv.datasets.CIFAR10(root='./input/',\n",
    "                              train=False, download=True, transform=transform)\n",
    "\n",
    "testloader = torch.utils.data.DataLoader(testset,\n",
    "                                         batch_size=4, shuffle=True, num_workers=0)\n",
    "\n",
    "classes = ('plane', 'car', 'bird', 'cat', 'deer', 'dog', 'frog', 'horse', 'ship', 'truck')\n",
    "\n",
    "\n",
    "class VGGNet(nn.Module):\n",
    "    def __init__(self, num_classes):\n",
    "        super(VGGNet, self).__init__()\n",
    "        self.features = nn.Sequential(\n",
    "            nn.Conv2d(3, 32, 3, padding=1),  # Conv1\n",
    "            nn.ReLU(True),\n",
    "            nn.Conv2d(32, 32, 3, padding=1),  # Conv2\n",
    "            nn.ReLU(True),\n",
    "            nn.MaxPool2d(2, 2),  # Pool1\n",
    "            nn.Conv2d(32, 64, 3, padding=1),  # Conv3\n",
    "            nn.ReLU(True),\n",
    "            nn.Conv2d(64, 64, 3, padding=1),  # Conv4\n",
    "            nn.ReLU(True),\n",
    "            nn.MaxPool2d(2, 2),  # Pool2\n",
    "            nn.Conv2d(64, 128, 3, padding=1),  # Conv5\n",
    "            nn.ReLU(True),\n",
    "            nn.Conv2d(128, 128, 3, padding=1),  # Conv6\n",
    "            nn.ReLU(True),\n",
    "            nn.Conv2d(128, 128, 3, padding=1),  # Conv7\n",
    "            nn.ReLU(True),\n",
    "            nn.MaxPool2d(2, 2),  # Pool3\n",
    "            nn.Conv2d(128, 256, 3, padding=1),  # Conv8\n",
    "            nn.ReLU(True),\n",
    "            nn.Conv2d(256, 256, 3, padding=1),  # Conv9\n",
    "            nn.ReLU(True),\n",
    "            nn.Conv2d(256, 256, 3, padding=1),  # Conv10\n",
    "            nn.ReLU(True),\n",
    "            nn.MaxPool2d(2, 2),  # Pool4\n",
    "            nn.Conv2d(256, 256, 3, padding=1),  # Conv11\n",
    "            nn.ReLU(True),\n",
    "            nn.Conv2d(256, 256, 3, padding=1),  # Conv12\n",
    "            nn.ReLU(True),\n",
    "            nn.Conv2d(256, 256, 3, padding=1),  # Conv13\n",
    "            nn.ReLU(True),\n",
    "            # nn.MaxPool2d(2, 2)  # Pool5 是否还需要此池化层，每个通道的数据已经被降为1*1\n",
    "        )\n",
    "\n",
    "        self.classifier = nn.Sequential(\n",
    "            nn.Linear(2 * 2 * 256, 512),\n",
    "            nn.ReLU(True),\n",
    "            nn.Dropout(),\n",
    "            nn.Linear(512, 512),\n",
    "            nn.ReLU(True),\n",
    "            nn.Dropout(),\n",
    "            nn.Linear(512, num_classes),\n",
    "        )\n",
    "        self._initialize_weights()\n",
    "\n",
    "    def _initialize_weights(self):\n",
    "        for m in self.modules():\n",
    "            if isinstance(m, nn.Conv2d):\n",
    "                n = m.kernel_size[0] * m.kernel_size[1] * m.out_channels\n",
    "                m.weight.data.normal_(0, math.sqrt(2. / n))\n",
    "                if m.bias is not None:\n",
    "                    m.bias.data.zero_()\n",
    "            elif isinstance(m, nn.BatchNorm2d):\n",
    "                m.weight.data.fill_(1)\n",
    "                m.bias.data.zero_()\n",
    "            elif isinstance(m, nn.Linear):\n",
    "                m.weight.data.normal_(0, 0.01)\n",
    "                m.bias.data.zero_()\n",
    "\n",
    "    def forward(self, x):\n",
    "        x = self.features(x)\n",
    "        x = x.view(x.size(0), -1)\n",
    "        x = self.classifier(x)\n",
    "        return x\n",
    "\n",
    "\n",
    "net = VGGNet(10)\n",
    "lr = 1e-3\n",
    "momentum = 0.9\n",
    "\n",
    "# num_epoch = 50\n",
    "num_epoch = 0\n",
    "\n",
    "critierion = nn.CrossEntropyLoss()\n",
    "optimizer = optim.SGD(net.parameters(), lr=lr, momentum=momentum)\n",
    "print('Training with learning rate = %f, momentum = %f ' % (lr, momentum))\n",
    "\n",
    "loss_p = np.array([])\n",
    "e = np.linspace(0, num_epoch, num_epoch)\n",
    "for t in range(num_epoch):\n",
    "    running_loss = 0\n",
    "    running_loss_sum_per_epoch = 0\n",
    "    total_images = 0\n",
    "    correct_images = 0\n",
    "    if t == 25:\n",
    "        optimizer = optim.SGD(net.parameters(), lr=lr/10, momentum=momentum)\n",
    "    for i, data in enumerate(train_loader, 0):\n",
    "        images, labels = data\n",
    "        images = Variable(images)\n",
    "        labels = Variable(labels)\n",
    "\n",
    "        optimizer.zero_grad()\n",
    "        outputs = net(images)\n",
    "        _, predicts = torch.max(outputs.data, 1)\n",
    "        loss = critierion(outputs, labels)\n",
    "\n",
    "        loss.backward()\n",
    "\n",
    "        optimizer.step()\n",
    "\n",
    "        total_images += labels.size(0)\n",
    "        correct_images += (predicts == labels).sum().item()\n",
    "        loss_data = loss.item()\n",
    "        running_loss += loss_data\n",
    "        \n",
    "        running_loss_sum_per_epoch = running_loss + running_loss_sum_per_epoch\n",
    "        if i % 2000 == 1999:\n",
    "            print('Epoch, batch [%d, %5d] loss: %.6f, Training accuracy: %.5f' %\n",
    "                  (t + 1, i + 1, running_loss / 2000, 100 * correct_images / total_images))\n",
    "            running_loss = 0\n",
    "            total_images = 0\n",
    "            correct_images = 0\n",
    "\n",
    "    loss_p = np.append(loss_p, running_loss_sum_per_epoch)\n",
    "\n",
    "print('Finished training.')\n",
    "'''\n",
    "plt.plot(e, loss_p, color='red', linestyle='--', labels='Training Loss')\n",
    "plt.xlabel('Epoch')\n",
    "plt.ylabel('Loss')\n",
    "plt.show()\n",
    "'''\n",
    "\n",
    "#torch.save(net,'vgg16.pkl')"
   ]
  },
  {
   "cell_type": "code",
   "execution_count": 4,
   "id": "2b54eed1",
   "metadata": {},
   "outputs": [
    {
     "name": "stdout",
     "output_type": "stream",
     "text": [
      "81.52\n"
     ]
    }
   ],
   "source": [
    "#testloader\n",
    "from torchvision import datasets as ds\n",
    "from torch.utils.data import DataLoader\n",
    "from torchvision import transforms as ts\n",
    "import torchvision as tv\n",
    "import torch\n",
    "import torch.nn as nn\n",
    "import math\n",
    "import numpy as np\n",
    "from torch.autograd import Variable\n",
    "from torch import optim\n",
    "from matplotlib import pyplot as plt\n",
    "import torch.backends.cudnn as cudnn\n",
    "vgg16_origin = torch.load('vgg16.pkl',map_location ='cpu')\n",
    "total_images = 0\n",
    "correct_images = 0\n",
    "for i, data in enumerate(testloader, 0):\n",
    "    images, labels = data\n",
    "    images = Variable(images)\n",
    "    labels = Variable(labels)\n",
    "    \n",
    "    total_images += labels.size(0)\n",
    "    \n",
    "    outputs = vgg16_origin(images)\n",
    "    _, predicts = torch.max(outputs.data, 1)\n",
    "    \n",
    "    correct_images += (predicts == labels).sum().item()\n",
    "print(100 * correct_images / total_images)"
   ]
  },
  {
   "cell_type": "code",
   "execution_count": 6,
   "id": "80f5123d",
   "metadata": {},
   "outputs": [],
   "source": [
    "#Quantization Implementations\n",
    "import torch.quantization\n",
    "import torch.nn as tnn\n",
    "# create a model instance\n",
    "model_fp32 = vgg16_origin\n",
    "# create a quantized model instance\n",
    "\n",
    "#visualization- offsets\n",
    "model_int8 = torch.quantization.quantize_dynamic(model_fp32,{tnn.Conv2d}, dtype=torch.qint8) "
   ]
  },
  {
   "cell_type": "code",
   "execution_count": null,
   "id": "c96bb654",
   "metadata": {},
   "outputs": [],
   "source": [
    "# quantization parameters\n",
    "for name, param in model.named_parameters():"
   ]
  },
  {
   "cell_type": "code",
   "execution_count": 7,
   "id": "030af29b",
   "metadata": {},
   "outputs": [
    {
     "name": "stdout",
     "output_type": "stream",
     "text": [
      "81.47\n"
     ]
    }
   ],
   "source": [
    "total_images = 0\n",
    "correct_images = 0\n",
    "for i, data in enumerate(testloader, 0):\n",
    "    images, labels = data\n",
    "    images = Variable(images)\n",
    "    labels = Variable(labels)\n",
    "    \n",
    "    total_images += labels.size(0)\n",
    "    \n",
    "    outputs = model_int8(images)\n",
    "    _, predicts = torch.max(outputs.data, 1)\n",
    "    \n",
    "    correct_images += (predicts == labels).sum().item()\n",
    "print(100 * correct_images / total_images)"
   ]
  }
 ],
 "metadata": {
  "kernelspec": {
   "display_name": "Python 3 (ipykernel)",
   "language": "python",
   "name": "python3"
  },
  "language_info": {
   "codemirror_mode": {
    "name": "ipython",
    "version": 3
   },
   "file_extension": ".py",
   "mimetype": "text/x-python",
   "name": "python",
   "nbconvert_exporter": "python",
   "pygments_lexer": "ipython3",
   "version": "3.9.7"
  }
 },
 "nbformat": 4,
 "nbformat_minor": 5
}
